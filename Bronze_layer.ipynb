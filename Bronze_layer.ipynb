{
 "cells": [
  {
   "cell_type": "code",
   "execution_count": 0,
   "metadata": {
    "application/vnd.databricks.v1+cell": {
     "cellMetadata": {},
     "inputWidgets": {},
     "nuid": "e0b384bd-ea29-4fad-ad9c-b0011ffd8c20",
     "showTitle": false,
     "tableResultSettingsMap": {},
     "title": ""
    }
   },
   "outputs": [],
   "source": [
    "tiers= [\"bronze\",\"silver\",\"gold\"]\n",
    "\n",
    "dbfs_path= { tier : f\"/Volumes/workspace/eathquake_data/raw-data/{tier}\" for tier in tiers}\n",
    "\n",
    "bronze_dbfs= dbfs_path[\"bronze\"]\n",
    "silver_dbfs= dbfs_path[\"silver\"]\n",
    "gold_dbfs= dbfs_path[\"gold\"]\n",
    "\n",
    "dbutils.fs.ls(bronze_dbfs)\n",
    "dbutils.fs.ls(silver_dbfs)\n",
    "dbutils.fs.ls(gold_dbfs)\n",
    "# print(\"Hello Earthquake\")\n",
    "# print(\"Hello Earthquake Url\")"
   ]
  },
  {
   "cell_type": "code",
   "execution_count": 0,
   "metadata": {
    "application/vnd.databricks.v1+cell": {
     "cellMetadata": {},
     "inputWidgets": {},
     "nuid": "376ae498-befc-4c12-9fe9-0912038820af",
     "showTitle": false,
     "tableResultSettingsMap": {},
     "title": ""
    }
   },
   "outputs": [],
   "source": [
    "import requests\n",
    "import json\n",
    "from datetime import date, timedelta"
   ]
  },
  {
   "cell_type": "code",
   "execution_count": 0,
   "metadata": {
    "application/vnd.databricks.v1+cell": {
     "cellMetadata": {},
     "inputWidgets": {},
     "nuid": "012b5008-878b-43b7-bd93-be4012efb8eb",
     "showTitle": false,
     "tableResultSettingsMap": {},
     "title": ""
    }
   },
   "outputs": [],
   "source": [
    "start_date= date.today() - timedelta(1)\n",
    "end_date= date.today()\n",
    "print(f\" { start_date} and end date is { end_date}\")"
   ]
  },
  {
   "cell_type": "code",
   "execution_count": 0,
   "metadata": {
    "application/vnd.databricks.v1+cell": {
     "cellMetadata": {},
     "inputWidgets": {},
     "nuid": "21c700df-003d-4207-8bd3-18f890603782",
     "showTitle": false,
     "tableResultSettingsMap": {},
     "title": ""
    }
   },
   "outputs": [],
   "source": [
    "url= f\"https://earthquake.usgs.gov/fdsnws/event/1/query?format=geojson&starttime={start_date}&endtime={end_date}\"\n",
    "\n",
    "try:\n",
    "    response= requests.get(url)\n",
    "    #check if request was succsfull or not\n",
    "    response.raise_for_status()\n",
    "    data= response.json().get('features',[])\n",
    "    if not data :\n",
    "        print(\"no date returned for specific data range\")\n",
    "    else:\n",
    "        # specify the file path\n",
    "        file_path= f\"{bronze_dbfs}/{start_date}_earthquake_data.json\"\n",
    "        json_data= json.dumps(data,indent=4)\n",
    "        dbutils.fs.put(file_path, json_data, overwrite=True)\n",
    "        print(f\"Data successfully saved to {file_path}\")\n",
    "except requests.exceptions.RequestException as e:\n",
    "    print(f\"Error fetching the data from API : {e}\")\n",
    "\n",
    "\n",
    "\n",
    "\n"
   ]
  },
  {
   "cell_type": "code",
   "execution_count": 0,
   "metadata": {
    "application/vnd.databricks.v1+cell": {
     "cellMetadata": {},
     "inputWidgets": {},
     "nuid": "d81a602a-9fec-40d7-a74d-c6b0e25a4041",
     "showTitle": false,
     "tableResultSettingsMap": {},
     "title": ""
    }
   },
   "outputs": [],
   "source": [
    "output_data= {\n",
    "    \"start_date\": start_date.isoformat(),\n",
    "    \"end_date\": end_date.isoformat(),\n",
    "    \"bronze_dbfs\" : bronze_dbfs,\n",
    "    \"silver_dbfs\" : silver_dbfs,\n",
    "    \"gold_dbfs\" : gold_dbfs\n",
    "\n",
    "}\n",
    "dbutils.jobs.taskValues.set(key=\"bronze_output\", value=output_data)"
   ]
  }
 ],
 "metadata": {
  "application/vnd.databricks.v1+notebook": {
   "computePreferences": null,
   "dashboards": [],
   "environmentMetadata": {
    "base_environment": "",
    "environment_version": "2"
   },
   "inputWidgetPreferences": null,
   "language": "python",
   "notebookMetadata": {
    "pythonIndentUnit": 4
   },
   "notebookName": "Bronze_layer",
   "widgets": {}
  },
  "language_info": {
   "name": "python"
  }
 },
 "nbformat": 4,
 "nbformat_minor": 0
}
