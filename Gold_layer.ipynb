{
 "cells": [
  {
   "cell_type": "code",
   "execution_count": 0,
   "metadata": {
    "application/vnd.databricks.v1+cell": {
     "cellMetadata": {},
     "inputWidgets": {},
     "nuid": "f6e3669f-5013-4b8e-9ed3-76ef3c4865cd",
     "showTitle": false,
     "tableResultSettingsMap": {},
     "title": ""
    }
   },
   "outputs": [],
   "source": [
    "bronze_output= dbutils.jobs.taskValues.get(taskKey=\"Bronze\",key=\"bronze_output\")\n",
    "silver_output= dbutils.jobs.taskValues.get(taskKey=\"Silver\", key=\"silver_output\")\n",
    "\n",
    "start_date= bronze_output.get(\"start_date\",\"\")\n",
    "silver_dbfs= bronze_output.get(\"silver_dbfs\",\"\")\n",
    "gold_dbfs= bronze_output.get(\"gold_dbfs\",\"\")\n",
    "\n",
    "print(f\"start date : {start_date} and gold dbfs : {gold_dbfs}\")"
   ]
  },
  {
   "cell_type": "code",
   "execution_count": 0,
   "metadata": {
    "application/vnd.databricks.v1+cell": {
     "cellMetadata": {},
     "inputWidgets": {},
     "nuid": "616aa195-fa93-4274-b4fa-1b414d68702b",
     "showTitle": false,
     "tableResultSettingsMap": {},
     "title": ""
    }
   },
   "outputs": [],
   "source": [
    "pip install reverse_geocoder"
   ]
  },
  {
   "cell_type": "code",
   "execution_count": 0,
   "metadata": {
    "application/vnd.databricks.v1+cell": {
     "cellMetadata": {},
     "inputWidgets": {},
     "nuid": "19363318-70ef-4ef4-8205-5a6353e57069",
     "showTitle": false,
     "tableResultSettingsMap": {},
     "title": ""
    }
   },
   "outputs": [],
   "source": [
    "from pyspark.sql.functions import * \n",
    "from pyspark.sql.types import *\n",
    "from datetime import date, timedelta\n",
    "import reverse_geocoder as rg"
   ]
  },
  {
   "cell_type": "code",
   "execution_count": 0,
   "metadata": {
    "application/vnd.databricks.v1+cell": {
     "cellMetadata": {},
     "inputWidgets": {},
     "nuid": "2a1b52d7-e59f-4836-9123-1fc47c7d3f29",
     "showTitle": false,
     "tableResultSettingsMap": {},
     "title": ""
    }
   },
   "outputs": [],
   "source": [
    "df= spark.read.parquet(f\"{silver_dbfs}/earthquake_events_silver/\").filter(col('time') > start_date)"
   ]
  },
  {
   "cell_type": "code",
   "execution_count": 0,
   "metadata": {
    "application/vnd.databricks.v1+cell": {
     "cellMetadata": {},
     "inputWidgets": {},
     "nuid": "be4d5aed-4c3a-42e5-8f01-fd017f299fa8",
     "showTitle": false,
     "tableResultSettingsMap": {},
     "title": ""
    }
   },
   "outputs": [],
   "source": [
    "df= df.limit(10)"
   ]
  },
  {
   "cell_type": "code",
   "execution_count": 0,
   "metadata": {
    "application/vnd.databricks.v1+cell": {
     "cellMetadata": {},
     "inputWidgets": {},
     "nuid": "f079942c-9abf-442d-8823-4922655fa632",
     "showTitle": false,
     "tableResultSettingsMap": {},
     "title": ""
    }
   },
   "outputs": [],
   "source": [
    "# write a udf to get the contry code by using latitude and longitude \n",
    "def get_country_code(lat,lon):\n",
    "    \"\"\"\n",
    "    Retrieve the counry code for a given latitude and longitude.\n",
    "    \n",
    "    parameters :\n",
    "    lat ( float or str) : Latitude of the location\n",
    "    lon ( float or str) : Longitude of the location\n",
    "    \n",
    "    returns : \n",
    "    str : Country code of the location , retrieved using the reverse geocode API\n",
    "\n",
    "    Example : \n",
    "    >>> get_country_code(40.7128, -74.0060)\n",
    "    'FR'\n",
    "\n",
    "    \"\"\"\n",
    "\n",
    "    try : \n",
    "        coordinates = (float(lat), float(lon))\n",
    "        result= rg.search(coordinates)[0].get('cc')\n",
    "        print(f\" Processed coordinates : {coordinates}-> { result}\")\n",
    "        return result\n",
    "    except Exception as e : \n",
    "        print(f\"Error while processing coordinates : {lat}, {lon} -> {str(e)}\")\n",
    "        return None\n"
   ]
  },
  {
   "cell_type": "code",
   "execution_count": 0,
   "metadata": {
    "application/vnd.databricks.v1+cell": {
     "cellMetadata": {},
     "inputWidgets": {},
     "nuid": "f8f76b9b-5628-4f24-81fe-38b1e210d13b",
     "showTitle": false,
     "tableResultSettingsMap": {},
     "title": ""
    }
   },
   "outputs": [],
   "source": [
    "# Registering the udf o they can be used on spark dataframe\n",
    "get_country_code_udf= udf(get_country_code, StringType())"
   ]
  },
  {
   "cell_type": "code",
   "execution_count": 0,
   "metadata": {
    "application/vnd.databricks.v1+cell": {
     "cellMetadata": {},
     "inputWidgets": {},
     "nuid": "442692a9-4f4b-4dc4-afba-4d6411b03c0f",
     "showTitle": false,
     "tableResultSettingsMap": {},
     "title": ""
    }
   },
   "outputs": [],
   "source": [
    "get_country_code(48.8588443, 2.2943506)"
   ]
  },
  {
   "cell_type": "code",
   "execution_count": 0,
   "metadata": {
    "application/vnd.databricks.v1+cell": {
     "cellMetadata": {},
     "inputWidgets": {},
     "nuid": "66999f7e-7ff2-49f2-8ccb-cd4ebdf79bf2",
     "showTitle": false,
     "tableResultSettingsMap": {},
     "title": ""
    }
   },
   "outputs": [],
   "source": [
    "# adding country code and city attributes\n",
    "df_with_loation = df.\\\n",
    "                        withColumn(\"country_code\",get_country_code_udf(col(\"latitude\"),col(\"longitude\")))"
   ]
  },
  {
   "cell_type": "code",
   "execution_count": 0,
   "metadata": {
    "application/vnd.databricks.v1+cell": {
     "cellMetadata": {},
     "inputWidgets": {},
     "nuid": "68e18e39-3dfb-49f4-9597-bed8da138492",
     "showTitle": false,
     "tableResultSettingsMap": {},
     "title": ""
    }
   },
   "outputs": [],
   "source": [
    "df_with_location_sig_class= df_with_loation.\\\n",
    "    withColumn(\"sig_class\", when(col(\"sig\")<100, \"low\")\\\n",
    "               .when((col(\"sig\")>=100) & (col(\"sig\")<500),\"Moderate\").\\\n",
    "                   otherwise(\"High\")\n",
    "                   )"
   ]
  },
  {
   "cell_type": "code",
   "execution_count": 0,
   "metadata": {
    "application/vnd.databricks.v1+cell": {
     "cellMetadata": {},
     "inputWidgets": {},
     "nuid": "7e2e2a98-f7db-4678-a162-c3c6f1370fa3",
     "showTitle": false,
     "tableResultSettingsMap": {},
     "title": ""
    }
   },
   "outputs": [],
   "source": [
    "gold_output_path= f\"{gold_dbfs}/earthquake_events_gold/\""
   ]
  },
  {
   "cell_type": "code",
   "execution_count": 0,
   "metadata": {
    "application/vnd.databricks.v1+cell": {
     "cellMetadata": {},
     "inputWidgets": {},
     "nuid": "95451337-1f25-4995-a24a-ceccde2744d2",
     "showTitle": false,
     "tableResultSettingsMap": {},
     "title": ""
    }
   },
   "outputs": [],
   "source": [
    "#save the transformed dataframe to the gold container\n",
    "df_with_location_sig_class.write.mode(\"append\").parquet(gold_output_path)"
   ]
  }
 ],
 "metadata": {
  "application/vnd.databricks.v1+notebook": {
   "computePreferences": null,
   "dashboards": [],
   "environmentMetadata": {
    "base_environment": "",
    "environment_version": "2"
   },
   "inputWidgetPreferences": null,
   "language": "python",
   "notebookMetadata": {
    "pythonIndentUnit": 4
   },
   "notebookName": "Gold_layer",
   "widgets": {}
  },
  "language_info": {
   "name": "python"
  }
 },
 "nbformat": 4,
 "nbformat_minor": 0
}
