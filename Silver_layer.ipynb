{
 "cells": [
  {
   "cell_type": "code",
   "execution_count": 0,
   "metadata": {
    "application/vnd.databricks.v1+cell": {
     "cellMetadata": {},
     "inputWidgets": {},
     "nuid": "d990f37d-287d-4855-bdff-e2206aedd596",
     "showTitle": false,
     "tableResultSettingsMap": {},
     "title": ""
    }
   },
   "outputs": [],
   "source": [
    "# Retrieve the values from the Bronze output\n",
    "\n",
    "bronze_output= dbutils.jobs.taskValues.get(taskKey =\"Bronze\", key =\"bronze_output\")\n",
    "\n",
    "start_date= bronze_output.get(\"start_date\",\"\")\n",
    "end_date= bronze_output.get(\"end_date\",\"\")\n",
    "bronze_dbfs = bronze_output.get(\"bronze_dbfs\",\"\")\n",
    "silver_dbfs = bronze_output.get(\"silver_dbfs\",\"\")\n",
    "print(f\" start date: {start_date} , bronze_dbfs : { bronze_dbfs}\")"
   ]
  },
  {
   "cell_type": "code",
   "execution_count": 0,
   "metadata": {
    "application/vnd.databricks.v1+cell": {
     "cellMetadata": {},
     "inputWidgets": {},
     "nuid": "05fe86c2-8588-4fb3-a301-fc41a5ebda22",
     "showTitle": false,
     "tableResultSettingsMap": {},
     "title": ""
    }
   },
   "outputs": [],
   "source": [
    "from pyspark.sql.functions import col, when, isnull\n",
    "from pyspark.sql.types import TimestampType"
   ]
  },
  {
   "cell_type": "code",
   "execution_count": 0,
   "metadata": {
    "application/vnd.databricks.v1+cell": {
     "cellMetadata": {},
     "inputWidgets": {},
     "nuid": "fc5b8fe0-2d2a-421e-bf3a-068819339fbb",
     "showTitle": false,
     "tableResultSettingsMap": {},
     "title": ""
    }
   },
   "outputs": [],
   "source": [
    "#load the json data into spark dataframe\n",
    "df= spark.read.option(\"multiline\",\"true\").json(f\"{bronze_dbfs}/{start_date}_earthquake_data.json\")\n",
    "df.show(10)"
   ]
  },
  {
   "cell_type": "code",
   "execution_count": 0,
   "metadata": {
    "application/vnd.databricks.v1+cell": {
     "cellMetadata": {},
     "inputWidgets": {},
     "nuid": "261e0514-136f-4fc2-b5c2-a7b5e1fd0e5b",
     "showTitle": false,
     "tableResultSettingsMap": {},
     "title": ""
    }
   },
   "outputs": [],
   "source": [
    "df= df.select(\"id\",\n",
    "              col(\"geometry.coordinates\").getItem(0).alias(\"longitude\"),\n",
    "              col(\"geometry.coordinates\").getItem(1).alias(\"latitude\"),\n",
    "              col(\"geometry.coordinates\").getItem(2).alias(\"elevation\"),\n",
    "              col(\"properties.mag\").alias(\"magnitude\"),\n",
    "              col(\"properties.magType\").alias(\"magnitude_type\"),\n",
    "              col(\"properties.place\").alias(\"location\"),\n",
    "              col(\"properties.time\").alias(\"time\"),\n",
    "              col(\"properties.updated\").alias(\"updated\"),\n",
    "              col(\"properties.title\").alias(\"title\"),\n",
    "              col(\"properties.status\").alias(\"status\"),\n",
    "              col(\"properties.sig\").alias(\"sig\")\n",
    "              )\n",
    "\n"
   ]
  },
  {
   "cell_type": "code",
   "execution_count": 0,
   "metadata": {
    "application/vnd.databricks.v1+cell": {
     "cellMetadata": {},
     "inputWidgets": {},
     "nuid": "d0f290e6-df7f-461d-aabb-6147b13afb52",
     "showTitle": false,
     "tableResultSettingsMap": {},
     "title": ""
    }
   },
   "outputs": [],
   "source": [
    "# check for missing null values\n",
    "df= df\\\n",
    "    .withColumn('longitude', when(isnull(col('longitude')),0).otherwise(col('longitude')))\\\n",
    "    .withColumn('latitude', when(isnull(col('latitude')),0).otherwise(col('latitude')))\\\n",
    "    .withColumn('time', when(isnull(col('time')),0).otherwise(col('time'))) "
   ]
  },
  {
   "cell_type": "code",
   "execution_count": 0,
   "metadata": {
    "application/vnd.databricks.v1+cell": {
     "cellMetadata": {},
     "inputWidgets": {},
     "nuid": "cc1593a4-27c5-489d-aa15-46845ae69764",
     "showTitle": false,
     "tableResultSettingsMap": {},
     "title": ""
    }
   },
   "outputs": [],
   "source": [
    "#convert unix time to normal time\n",
    "df= df.withColumn(\"time\",(col(\"time\")/1000).cast(TimestampType()))\\\n",
    "    .withColumn(\"updated\",(col(\"updated\")/1000).cast(TimestampType()))"
   ]
  },
  {
   "cell_type": "code",
   "execution_count": 0,
   "metadata": {
    "application/vnd.databricks.v1+cell": {
     "cellMetadata": {},
     "inputWidgets": {},
     "nuid": "3f9dac29-7db3-403e-a490-01ac40cf2eb8",
     "showTitle": false,
     "tableResultSettingsMap": {},
     "title": ""
    }
   },
   "outputs": [],
   "source": [
    "# save the transformed data frame to silver contianer\n",
    "silver_output_path = f\"{silver_dbfs}/earthquake_events_silver/\""
   ]
  },
  {
   "cell_type": "code",
   "execution_count": 0,
   "metadata": {
    "application/vnd.databricks.v1+cell": {
     "cellMetadata": {},
     "inputWidgets": {},
     "nuid": "ce808fec-1e9c-4616-bee8-c63d7fe40763",
     "showTitle": false,
     "tableResultSettingsMap": {},
     "title": ""
    }
   },
   "outputs": [],
   "source": [
    "#append data to silver df into parquet file\n",
    "df.write.mode(\"append\").parquet(silver_output_path)"
   ]
  },
  {
   "cell_type": "code",
   "execution_count": 0,
   "metadata": {
    "application/vnd.databricks.v1+cell": {
     "cellMetadata": {},
     "inputWidgets": {},
     "nuid": "5aeea7d9-eaa4-481b-a350-424a2cf326d9",
     "showTitle": false,
     "tableResultSettingsMap": {},
     "title": ""
    }
   },
   "outputs": [],
   "source": [
    "dbutils.jobs.taskValues.set(key=\"silver_output\",value=silver_output_path)"
   ]
  }
 ],
 "metadata": {
  "application/vnd.databricks.v1+notebook": {
   "computePreferences": null,
   "dashboards": [],
   "environmentMetadata": {
    "base_environment": "",
    "environment_version": "2"
   },
   "inputWidgetPreferences": null,
   "language": "python",
   "notebookMetadata": {
    "pythonIndentUnit": 4
   },
   "notebookName": "Silver_layer",
   "widgets": {}
  },
  "language_info": {
   "name": "python"
  }
 },
 "nbformat": 4,
 "nbformat_minor": 0
}
